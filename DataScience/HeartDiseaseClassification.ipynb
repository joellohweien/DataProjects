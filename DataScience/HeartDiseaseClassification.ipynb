{
 "cells": [
  {
   "cell_type": "code",
   "execution_count": 1,
   "id": "0edabafc",
   "metadata": {},
   "outputs": [],
   "source": [
    "# install basic packages needed\n",
    "import os\n",
    "import pandas as pd\n",
    "import numpy as np\n",
    "\n",
    "# import packages for visualization\n",
    "import matplotlib.pyplot as plt\n",
    "import seaborn as sns\n",
    "%matplotlib inline\n",
    "\n",
    "# import necessary packages for xgboost\n",
    "import xgboost\n",
    "from sklearn.model_selection import train_test_split, cross_val_score, KFold\n",
    "from sklearn.linear_model import LogisticRegression, LinearRegression, Ridge, Lasso\n",
    "from sklearn.metrics import accuracy_score, mean_squared_error, roc_curve, roc_auc_score\n",
    "from sklearn.metrics import classification_report, confusion_matrix\n",
    "from sklearn.preprocessing import minmax_scale, OneHotEncoder\n",
    "\n",
    "#from xgboost import plot_tree\n",
    "from sklearn import tree\n",
    "import statsmodels.api as sm\n",
    "from statsmodels.stats.outliers_influence import variance_inflation_factor\n",
    "from statsmodels.stats.diagnostic import het_white\n",
    "from statsmodels.compat import lzip\n",
    "from scipy import stats\n",
    "from scipy.stats import spearmanr"
   ]
  },
  {
   "cell_type": "markdown",
   "id": "8aa6c05e",
   "metadata": {},
   "source": [
    "#### Please note that aim of notebook is to showcase working competency in building ML classification\n",
    "- Models used: Regression (to cater to more \"traditional\" medical analytics folk) and XGBoost (for efficiency)\n",
    "- Walk through commentary of notebook focused on documenting rationale\n",
    "    - Feature engineering,\n",
    "    - Model evauation, and \n",
    "    - Hyperparameter tuning \n",
    "\n",
    "- Synopsis: after evaluating and tuning both models, we see that the \"simpler\" Logistic regression performs better for this classification task. Some commentary as to the reasons why are also put forth."
   ]
  },
  {
   "cell_type": "code",
   "execution_count": 2,
   "id": "6d3e1a8a",
   "metadata": {},
   "outputs": [],
   "source": [
    "# Step 1: Defining the problem\n",
    "## Create a predictive model for CVD\n",
    "\n",
    "# Step 2: Collect and Pre-process data\n",
    "# URL contains \"cleaned\" dataset @ https://archive.ics.uci.edu/ml/datasets/Heart+Disease"
   ]
  },
  {
   "cell_type": "code",
   "execution_count": 3,
   "id": "156f757c",
   "metadata": {},
   "outputs": [
    {
     "data": {
      "text/html": [
       "<div>\n",
       "<style scoped>\n",
       "    .dataframe tbody tr th:only-of-type {\n",
       "        vertical-align: middle;\n",
       "    }\n",
       "\n",
       "    .dataframe tbody tr th {\n",
       "        vertical-align: top;\n",
       "    }\n",
       "\n",
       "    .dataframe thead th {\n",
       "        text-align: right;\n",
       "    }\n",
       "</style>\n",
       "<table border=\"1\" class=\"dataframe\">\n",
       "  <thead>\n",
       "    <tr style=\"text-align: right;\">\n",
       "      <th></th>\n",
       "      <th>0</th>\n",
       "      <th>1</th>\n",
       "      <th>2</th>\n",
       "      <th>3</th>\n",
       "      <th>4</th>\n",
       "      <th>5</th>\n",
       "      <th>6</th>\n",
       "      <th>7</th>\n",
       "      <th>8</th>\n",
       "      <th>9</th>\n",
       "      <th>10</th>\n",
       "      <th>11</th>\n",
       "      <th>12</th>\n",
       "      <th>13</th>\n",
       "    </tr>\n",
       "  </thead>\n",
       "  <tbody>\n",
       "    <tr>\n",
       "      <th>0</th>\n",
       "      <td>63.0</td>\n",
       "      <td>1.0</td>\n",
       "      <td>1.0</td>\n",
       "      <td>145.0</td>\n",
       "      <td>233.0</td>\n",
       "      <td>1.0</td>\n",
       "      <td>2.0</td>\n",
       "      <td>150.0</td>\n",
       "      <td>0.0</td>\n",
       "      <td>2.3</td>\n",
       "      <td>3.0</td>\n",
       "      <td>0.0</td>\n",
       "      <td>6.0</td>\n",
       "      <td>0</td>\n",
       "    </tr>\n",
       "    <tr>\n",
       "      <th>1</th>\n",
       "      <td>67.0</td>\n",
       "      <td>1.0</td>\n",
       "      <td>4.0</td>\n",
       "      <td>160.0</td>\n",
       "      <td>286.0</td>\n",
       "      <td>0.0</td>\n",
       "      <td>2.0</td>\n",
       "      <td>108.0</td>\n",
       "      <td>1.0</td>\n",
       "      <td>1.5</td>\n",
       "      <td>2.0</td>\n",
       "      <td>3.0</td>\n",
       "      <td>3.0</td>\n",
       "      <td>2</td>\n",
       "    </tr>\n",
       "    <tr>\n",
       "      <th>2</th>\n",
       "      <td>67.0</td>\n",
       "      <td>1.0</td>\n",
       "      <td>4.0</td>\n",
       "      <td>120.0</td>\n",
       "      <td>229.0</td>\n",
       "      <td>0.0</td>\n",
       "      <td>2.0</td>\n",
       "      <td>129.0</td>\n",
       "      <td>1.0</td>\n",
       "      <td>2.6</td>\n",
       "      <td>2.0</td>\n",
       "      <td>2.0</td>\n",
       "      <td>7.0</td>\n",
       "      <td>1</td>\n",
       "    </tr>\n",
       "    <tr>\n",
       "      <th>3</th>\n",
       "      <td>37.0</td>\n",
       "      <td>1.0</td>\n",
       "      <td>3.0</td>\n",
       "      <td>130.0</td>\n",
       "      <td>250.0</td>\n",
       "      <td>0.0</td>\n",
       "      <td>0.0</td>\n",
       "      <td>187.0</td>\n",
       "      <td>0.0</td>\n",
       "      <td>3.5</td>\n",
       "      <td>3.0</td>\n",
       "      <td>0.0</td>\n",
       "      <td>3.0</td>\n",
       "      <td>0</td>\n",
       "    </tr>\n",
       "    <tr>\n",
       "      <th>4</th>\n",
       "      <td>41.0</td>\n",
       "      <td>0.0</td>\n",
       "      <td>2.0</td>\n",
       "      <td>130.0</td>\n",
       "      <td>204.0</td>\n",
       "      <td>0.0</td>\n",
       "      <td>2.0</td>\n",
       "      <td>172.0</td>\n",
       "      <td>0.0</td>\n",
       "      <td>1.4</td>\n",
       "      <td>1.0</td>\n",
       "      <td>0.0</td>\n",
       "      <td>3.0</td>\n",
       "      <td>0</td>\n",
       "    </tr>\n",
       "    <tr>\n",
       "      <th>...</th>\n",
       "      <td>...</td>\n",
       "      <td>...</td>\n",
       "      <td>...</td>\n",
       "      <td>...</td>\n",
       "      <td>...</td>\n",
       "      <td>...</td>\n",
       "      <td>...</td>\n",
       "      <td>...</td>\n",
       "      <td>...</td>\n",
       "      <td>...</td>\n",
       "      <td>...</td>\n",
       "      <td>...</td>\n",
       "      <td>...</td>\n",
       "      <td>...</td>\n",
       "    </tr>\n",
       "    <tr>\n",
       "      <th>298</th>\n",
       "      <td>45.0</td>\n",
       "      <td>1.0</td>\n",
       "      <td>1.0</td>\n",
       "      <td>110.0</td>\n",
       "      <td>264.0</td>\n",
       "      <td>0.0</td>\n",
       "      <td>0.0</td>\n",
       "      <td>132.0</td>\n",
       "      <td>0.0</td>\n",
       "      <td>1.2</td>\n",
       "      <td>2.0</td>\n",
       "      <td>0.0</td>\n",
       "      <td>7.0</td>\n",
       "      <td>1</td>\n",
       "    </tr>\n",
       "    <tr>\n",
       "      <th>299</th>\n",
       "      <td>68.0</td>\n",
       "      <td>1.0</td>\n",
       "      <td>4.0</td>\n",
       "      <td>144.0</td>\n",
       "      <td>193.0</td>\n",
       "      <td>1.0</td>\n",
       "      <td>0.0</td>\n",
       "      <td>141.0</td>\n",
       "      <td>0.0</td>\n",
       "      <td>3.4</td>\n",
       "      <td>2.0</td>\n",
       "      <td>2.0</td>\n",
       "      <td>7.0</td>\n",
       "      <td>2</td>\n",
       "    </tr>\n",
       "    <tr>\n",
       "      <th>300</th>\n",
       "      <td>57.0</td>\n",
       "      <td>1.0</td>\n",
       "      <td>4.0</td>\n",
       "      <td>130.0</td>\n",
       "      <td>131.0</td>\n",
       "      <td>0.0</td>\n",
       "      <td>0.0</td>\n",
       "      <td>115.0</td>\n",
       "      <td>1.0</td>\n",
       "      <td>1.2</td>\n",
       "      <td>2.0</td>\n",
       "      <td>1.0</td>\n",
       "      <td>7.0</td>\n",
       "      <td>3</td>\n",
       "    </tr>\n",
       "    <tr>\n",
       "      <th>301</th>\n",
       "      <td>57.0</td>\n",
       "      <td>0.0</td>\n",
       "      <td>2.0</td>\n",
       "      <td>130.0</td>\n",
       "      <td>236.0</td>\n",
       "      <td>0.0</td>\n",
       "      <td>2.0</td>\n",
       "      <td>174.0</td>\n",
       "      <td>0.0</td>\n",
       "      <td>0.0</td>\n",
       "      <td>2.0</td>\n",
       "      <td>1.0</td>\n",
       "      <td>3.0</td>\n",
       "      <td>1</td>\n",
       "    </tr>\n",
       "    <tr>\n",
       "      <th>302</th>\n",
       "      <td>38.0</td>\n",
       "      <td>1.0</td>\n",
       "      <td>3.0</td>\n",
       "      <td>138.0</td>\n",
       "      <td>175.0</td>\n",
       "      <td>0.0</td>\n",
       "      <td>0.0</td>\n",
       "      <td>173.0</td>\n",
       "      <td>0.0</td>\n",
       "      <td>0.0</td>\n",
       "      <td>1.0</td>\n",
       "      <td>?</td>\n",
       "      <td>3.0</td>\n",
       "      <td>0</td>\n",
       "    </tr>\n",
       "  </tbody>\n",
       "</table>\n",
       "<p>303 rows × 14 columns</p>\n",
       "</div>"
      ],
      "text/plain": [
       "       0    1    2      3      4    5    6      7    8    9    10   11   12  \\\n",
       "0    63.0  1.0  1.0  145.0  233.0  1.0  2.0  150.0  0.0  2.3  3.0  0.0  6.0   \n",
       "1    67.0  1.0  4.0  160.0  286.0  0.0  2.0  108.0  1.0  1.5  2.0  3.0  3.0   \n",
       "2    67.0  1.0  4.0  120.0  229.0  0.0  2.0  129.0  1.0  2.6  2.0  2.0  7.0   \n",
       "3    37.0  1.0  3.0  130.0  250.0  0.0  0.0  187.0  0.0  3.5  3.0  0.0  3.0   \n",
       "4    41.0  0.0  2.0  130.0  204.0  0.0  2.0  172.0  0.0  1.4  1.0  0.0  3.0   \n",
       "..    ...  ...  ...    ...    ...  ...  ...    ...  ...  ...  ...  ...  ...   \n",
       "298  45.0  1.0  1.0  110.0  264.0  0.0  0.0  132.0  0.0  1.2  2.0  0.0  7.0   \n",
       "299  68.0  1.0  4.0  144.0  193.0  1.0  0.0  141.0  0.0  3.4  2.0  2.0  7.0   \n",
       "300  57.0  1.0  4.0  130.0  131.0  0.0  0.0  115.0  1.0  1.2  2.0  1.0  7.0   \n",
       "301  57.0  0.0  2.0  130.0  236.0  0.0  2.0  174.0  0.0  0.0  2.0  1.0  3.0   \n",
       "302  38.0  1.0  3.0  138.0  175.0  0.0  0.0  173.0  0.0  0.0  1.0    ?  3.0   \n",
       "\n",
       "     13  \n",
       "0     0  \n",
       "1     2  \n",
       "2     1  \n",
       "3     0  \n",
       "4     0  \n",
       "..   ..  \n",
       "298   1  \n",
       "299   2  \n",
       "300   3  \n",
       "301   1  \n",
       "302   0  \n",
       "\n",
       "[303 rows x 14 columns]"
      ]
     },
     "execution_count": 3,
     "metadata": {},
     "output_type": "execute_result"
    }
   ],
   "source": [
    "# Read in data\n",
    "heart_df = pd.read_csv('processed.cleveland.data', sep=\",\", header=None)\n",
    "heart_df"
   ]
  },
  {
   "cell_type": "code",
   "execution_count": 4,
   "id": "debf6bb5",
   "metadata": {},
   "outputs": [],
   "source": [
    "# naming the columns\n",
    "heart_df.columns = ['age', 'sex', 'cp', 'trestbps', 'chol', 'fbs', 'restecg', 'thalach', 'exang',\n",
    "                   'oldpeak', 'slope', 'ca', 'thal', 'num']\n",
    "#num is the predicted attribute"
   ]
  },
  {
   "cell_type": "code",
   "execution_count": 5,
   "id": "b7cdb487",
   "metadata": {},
   "outputs": [],
   "source": [
    "heart_df['hasCVD'] = 1\n",
    "heart_df.loc[heart_df['num'] == 0, 'hasCVD'] = 0"
   ]
  },
  {
   "cell_type": "code",
   "execution_count": 6,
   "id": "83ce3680",
   "metadata": {},
   "outputs": [
    {
     "data": {
      "text/html": [
       "<div>\n",
       "<style scoped>\n",
       "    .dataframe tbody tr th:only-of-type {\n",
       "        vertical-align: middle;\n",
       "    }\n",
       "\n",
       "    .dataframe tbody tr th {\n",
       "        vertical-align: top;\n",
       "    }\n",
       "\n",
       "    .dataframe thead th {\n",
       "        text-align: right;\n",
       "    }\n",
       "</style>\n",
       "<table border=\"1\" class=\"dataframe\">\n",
       "  <thead>\n",
       "    <tr style=\"text-align: right;\">\n",
       "      <th></th>\n",
       "      <th>age</th>\n",
       "      <th>sex</th>\n",
       "      <th>cp</th>\n",
       "      <th>trestbps</th>\n",
       "      <th>chol</th>\n",
       "      <th>fbs</th>\n",
       "      <th>restecg</th>\n",
       "      <th>thalach</th>\n",
       "      <th>exang</th>\n",
       "      <th>oldpeak</th>\n",
       "      <th>slope</th>\n",
       "      <th>ca</th>\n",
       "      <th>thal</th>\n",
       "      <th>num</th>\n",
       "      <th>hasCVD</th>\n",
       "    </tr>\n",
       "  </thead>\n",
       "  <tbody>\n",
       "    <tr>\n",
       "      <th>0</th>\n",
       "      <td>63.0</td>\n",
       "      <td>1.0</td>\n",
       "      <td>1.0</td>\n",
       "      <td>145.0</td>\n",
       "      <td>233.0</td>\n",
       "      <td>1.0</td>\n",
       "      <td>2.0</td>\n",
       "      <td>150.0</td>\n",
       "      <td>0.0</td>\n",
       "      <td>2.3</td>\n",
       "      <td>3.0</td>\n",
       "      <td>0.0</td>\n",
       "      <td>6.0</td>\n",
       "      <td>0</td>\n",
       "      <td>0</td>\n",
       "    </tr>\n",
       "    <tr>\n",
       "      <th>1</th>\n",
       "      <td>67.0</td>\n",
       "      <td>1.0</td>\n",
       "      <td>4.0</td>\n",
       "      <td>160.0</td>\n",
       "      <td>286.0</td>\n",
       "      <td>0.0</td>\n",
       "      <td>2.0</td>\n",
       "      <td>108.0</td>\n",
       "      <td>1.0</td>\n",
       "      <td>1.5</td>\n",
       "      <td>2.0</td>\n",
       "      <td>3.0</td>\n",
       "      <td>3.0</td>\n",
       "      <td>2</td>\n",
       "      <td>1</td>\n",
       "    </tr>\n",
       "    <tr>\n",
       "      <th>2</th>\n",
       "      <td>67.0</td>\n",
       "      <td>1.0</td>\n",
       "      <td>4.0</td>\n",
       "      <td>120.0</td>\n",
       "      <td>229.0</td>\n",
       "      <td>0.0</td>\n",
       "      <td>2.0</td>\n",
       "      <td>129.0</td>\n",
       "      <td>1.0</td>\n",
       "      <td>2.6</td>\n",
       "      <td>2.0</td>\n",
       "      <td>2.0</td>\n",
       "      <td>7.0</td>\n",
       "      <td>1</td>\n",
       "      <td>1</td>\n",
       "    </tr>\n",
       "    <tr>\n",
       "      <th>3</th>\n",
       "      <td>37.0</td>\n",
       "      <td>1.0</td>\n",
       "      <td>3.0</td>\n",
       "      <td>130.0</td>\n",
       "      <td>250.0</td>\n",
       "      <td>0.0</td>\n",
       "      <td>0.0</td>\n",
       "      <td>187.0</td>\n",
       "      <td>0.0</td>\n",
       "      <td>3.5</td>\n",
       "      <td>3.0</td>\n",
       "      <td>0.0</td>\n",
       "      <td>3.0</td>\n",
       "      <td>0</td>\n",
       "      <td>0</td>\n",
       "    </tr>\n",
       "    <tr>\n",
       "      <th>4</th>\n",
       "      <td>41.0</td>\n",
       "      <td>0.0</td>\n",
       "      <td>2.0</td>\n",
       "      <td>130.0</td>\n",
       "      <td>204.0</td>\n",
       "      <td>0.0</td>\n",
       "      <td>2.0</td>\n",
       "      <td>172.0</td>\n",
       "      <td>0.0</td>\n",
       "      <td>1.4</td>\n",
       "      <td>1.0</td>\n",
       "      <td>0.0</td>\n",
       "      <td>3.0</td>\n",
       "      <td>0</td>\n",
       "      <td>0</td>\n",
       "    </tr>\n",
       "    <tr>\n",
       "      <th>...</th>\n",
       "      <td>...</td>\n",
       "      <td>...</td>\n",
       "      <td>...</td>\n",
       "      <td>...</td>\n",
       "      <td>...</td>\n",
       "      <td>...</td>\n",
       "      <td>...</td>\n",
       "      <td>...</td>\n",
       "      <td>...</td>\n",
       "      <td>...</td>\n",
       "      <td>...</td>\n",
       "      <td>...</td>\n",
       "      <td>...</td>\n",
       "      <td>...</td>\n",
       "      <td>...</td>\n",
       "    </tr>\n",
       "    <tr>\n",
       "      <th>298</th>\n",
       "      <td>45.0</td>\n",
       "      <td>1.0</td>\n",
       "      <td>1.0</td>\n",
       "      <td>110.0</td>\n",
       "      <td>264.0</td>\n",
       "      <td>0.0</td>\n",
       "      <td>0.0</td>\n",
       "      <td>132.0</td>\n",
       "      <td>0.0</td>\n",
       "      <td>1.2</td>\n",
       "      <td>2.0</td>\n",
       "      <td>0.0</td>\n",
       "      <td>7.0</td>\n",
       "      <td>1</td>\n",
       "      <td>1</td>\n",
       "    </tr>\n",
       "    <tr>\n",
       "      <th>299</th>\n",
       "      <td>68.0</td>\n",
       "      <td>1.0</td>\n",
       "      <td>4.0</td>\n",
       "      <td>144.0</td>\n",
       "      <td>193.0</td>\n",
       "      <td>1.0</td>\n",
       "      <td>0.0</td>\n",
       "      <td>141.0</td>\n",
       "      <td>0.0</td>\n",
       "      <td>3.4</td>\n",
       "      <td>2.0</td>\n",
       "      <td>2.0</td>\n",
       "      <td>7.0</td>\n",
       "      <td>2</td>\n",
       "      <td>1</td>\n",
       "    </tr>\n",
       "    <tr>\n",
       "      <th>300</th>\n",
       "      <td>57.0</td>\n",
       "      <td>1.0</td>\n",
       "      <td>4.0</td>\n",
       "      <td>130.0</td>\n",
       "      <td>131.0</td>\n",
       "      <td>0.0</td>\n",
       "      <td>0.0</td>\n",
       "      <td>115.0</td>\n",
       "      <td>1.0</td>\n",
       "      <td>1.2</td>\n",
       "      <td>2.0</td>\n",
       "      <td>1.0</td>\n",
       "      <td>7.0</td>\n",
       "      <td>3</td>\n",
       "      <td>1</td>\n",
       "    </tr>\n",
       "    <tr>\n",
       "      <th>301</th>\n",
       "      <td>57.0</td>\n",
       "      <td>0.0</td>\n",
       "      <td>2.0</td>\n",
       "      <td>130.0</td>\n",
       "      <td>236.0</td>\n",
       "      <td>0.0</td>\n",
       "      <td>2.0</td>\n",
       "      <td>174.0</td>\n",
       "      <td>0.0</td>\n",
       "      <td>0.0</td>\n",
       "      <td>2.0</td>\n",
       "      <td>1.0</td>\n",
       "      <td>3.0</td>\n",
       "      <td>1</td>\n",
       "      <td>1</td>\n",
       "    </tr>\n",
       "    <tr>\n",
       "      <th>302</th>\n",
       "      <td>38.0</td>\n",
       "      <td>1.0</td>\n",
       "      <td>3.0</td>\n",
       "      <td>138.0</td>\n",
       "      <td>175.0</td>\n",
       "      <td>0.0</td>\n",
       "      <td>0.0</td>\n",
       "      <td>173.0</td>\n",
       "      <td>0.0</td>\n",
       "      <td>0.0</td>\n",
       "      <td>1.0</td>\n",
       "      <td>?</td>\n",
       "      <td>3.0</td>\n",
       "      <td>0</td>\n",
       "      <td>0</td>\n",
       "    </tr>\n",
       "  </tbody>\n",
       "</table>\n",
       "<p>303 rows × 15 columns</p>\n",
       "</div>"
      ],
      "text/plain": [
       "      age  sex   cp  trestbps   chol  fbs  restecg  thalach  exang  oldpeak  \\\n",
       "0    63.0  1.0  1.0     145.0  233.0  1.0      2.0    150.0    0.0      2.3   \n",
       "1    67.0  1.0  4.0     160.0  286.0  0.0      2.0    108.0    1.0      1.5   \n",
       "2    67.0  1.0  4.0     120.0  229.0  0.0      2.0    129.0    1.0      2.6   \n",
       "3    37.0  1.0  3.0     130.0  250.0  0.0      0.0    187.0    0.0      3.5   \n",
       "4    41.0  0.0  2.0     130.0  204.0  0.0      2.0    172.0    0.0      1.4   \n",
       "..    ...  ...  ...       ...    ...  ...      ...      ...    ...      ...   \n",
       "298  45.0  1.0  1.0     110.0  264.0  0.0      0.0    132.0    0.0      1.2   \n",
       "299  68.0  1.0  4.0     144.0  193.0  1.0      0.0    141.0    0.0      3.4   \n",
       "300  57.0  1.0  4.0     130.0  131.0  0.0      0.0    115.0    1.0      1.2   \n",
       "301  57.0  0.0  2.0     130.0  236.0  0.0      2.0    174.0    0.0      0.0   \n",
       "302  38.0  1.0  3.0     138.0  175.0  0.0      0.0    173.0    0.0      0.0   \n",
       "\n",
       "     slope   ca thal  num  hasCVD  \n",
       "0      3.0  0.0  6.0    0       0  \n",
       "1      2.0  3.0  3.0    2       1  \n",
       "2      2.0  2.0  7.0    1       1  \n",
       "3      3.0  0.0  3.0    0       0  \n",
       "4      1.0  0.0  3.0    0       0  \n",
       "..     ...  ...  ...  ...     ...  \n",
       "298    2.0  0.0  7.0    1       1  \n",
       "299    2.0  2.0  7.0    2       1  \n",
       "300    2.0  1.0  7.0    3       1  \n",
       "301    2.0  1.0  3.0    1       1  \n",
       "302    1.0    ?  3.0    0       0  \n",
       "\n",
       "[303 rows x 15 columns]"
      ]
     },
     "execution_count": 6,
     "metadata": {},
     "output_type": "execute_result"
    }
   ],
   "source": [
    "heart_df"
   ]
  },
  {
   "cell_type": "code",
   "execution_count": 7,
   "id": "1cd7b434",
   "metadata": {},
   "outputs": [
    {
     "data": {
      "text/plain": [
       "0    164\n",
       "1    139\n",
       "Name: hasCVD, dtype: int64"
      ]
     },
     "execution_count": 7,
     "metadata": {},
     "output_type": "execute_result"
    }
   ],
   "source": [
    "heart_df['hasCVD'].value_counts() # quite balanced outcomes!"
   ]
  },
  {
   "cell_type": "code",
   "execution_count": 8,
   "id": "f560fae3",
   "metadata": {},
   "outputs": [
    {
     "data": {
      "image/png": "[encoded data removed]",
      "text/plain": [
       "<Figure size 432x288 with 1 Axes>"
      ]
     },
     "metadata": {
      "needs_background": "light"
     },
     "output_type": "display_data"
    }
   ],
   "source": [
    "# Step 3: Explore the data\n",
    "# visualise to see if we should use minmax or standard scalar, based on how \"normal\" data is\n",
    "\n",
    "heart_df['age'].plot(kind = 'hist', bins = 10, title = 'Age distribution');"
   ]
  },
  {
   "cell_type": "code",
   "execution_count": 9,
   "id": "c94d0b1f",
   "metadata": {},
   "outputs": [
    {
     "data": {
      "text/plain": [
       "1.0    206\n",
       "0.0     97\n",
       "Name: sex, dtype: int64"
      ]
     },
     "execution_count": 9,
     "metadata": {},
     "output_type": "execute_result"
    }
   ],
   "source": [
    "heart_df['sex'].value_counts() # more males than females"
   ]
  },
  {
   "cell_type": "code",
   "execution_count": 10,
   "id": "8ed3e54b",
   "metadata": {},
   "outputs": [
    {
     "data": {
      "text/plain": [
       "4.0    144\n",
       "3.0     86\n",
       "2.0     50\n",
       "1.0     23\n",
       "Name: cp, dtype: int64"
      ]
     },
     "execution_count": 10,
     "metadata": {},
     "output_type": "execute_result"
    }
   ],
   "source": [
    "heart_df['cp'].value_counts() # mostly asymptomatic\n",
    "\n",
    "# Value 1: typical angina\n",
    "# Value 2: atypical angina\n",
    "# Value 3: non-anginal pain\n",
    "# Value 4: asymptomatic "
   ]
  },
  {
   "cell_type": "code",
   "execution_count": 11,
   "id": "9036c5af",
   "metadata": {},
   "outputs": [
    {
     "data": {
      "image/png": "[encoded data removed]",
      "text/plain": [
       "<Figure size 432x288 with 1 Axes>"
      ]
     },
     "metadata": {
      "needs_background": "light"
     },
     "output_type": "display_data"
    }
   ],
   "source": [
    "heart_df['trestbps'].plot(kind = 'hist', bins = 10, title = 'Resting BP distribution');"
   ]
  },
  {
   "cell_type": "code",
   "execution_count": 12,
   "id": "4225a9e2",
   "metadata": {},
   "outputs": [
    {
     "data": {
      "image/png": "[encoded data removed]",
      "text/plain": [
       "<Figure size 432x288 with 1 Axes>"
      ]
     },
     "metadata": {
      "needs_background": "light"
     },
     "output_type": "display_data"
    }
   ],
   "source": [
    "heart_df['chol'].plot(kind = 'hist', bins = 10, title = 'Cholesterol (in mg/dl) distribution');"
   ]
  },
  {
   "cell_type": "code",
   "execution_count": 13,
   "id": "e628048b",
   "metadata": {},
   "outputs": [
    {
     "data": {
      "text/plain": [
       "0.0    258\n",
       "1.0     45\n",
       "Name: fbs, dtype: int64"
      ]
     },
     "execution_count": 13,
     "metadata": {},
     "output_type": "execute_result"
    }
   ],
   "source": [
    "heart_df['fbs'].value_counts() # mostly OK"
   ]
  },
  {
   "cell_type": "code",
   "execution_count": 14,
   "id": "47922e83",
   "metadata": {},
   "outputs": [
    {
     "data": {
      "text/plain": [
       "0.0    151\n",
       "2.0    148\n",
       "1.0      4\n",
       "Name: restecg, dtype: int64"
      ]
     },
     "execution_count": 14,
     "metadata": {},
     "output_type": "execute_result"
    }
   ],
   "source": [
    "heart_df['restecg'].value_counts()\n",
    "\n",
    "# Value 0: normal\n",
    "# Value 1: having ST-T wave abnormality (T wave inversions and/or ST elevation or depression of > 0.05 mV)\n",
    "# Value 2: showing probable or definite left ventricular hypertrophy by Estes' criteria (possible HBP?)"
   ]
  },
  {
   "cell_type": "code",
   "execution_count": 15,
   "id": "75f64e43",
   "metadata": {},
   "outputs": [
    {
     "data": {
      "image/png": "[encoded data removed]",
      "text/plain": [
       "<Figure size 432x288 with 1 Axes>"
      ]
     },
     "metadata": {
      "needs_background": "light"
     },
     "output_type": "display_data"
    }
   ],
   "source": [
    "heart_df['thalach'].plot(kind = 'hist', bins = 10, title = 'Max Heart Rate distribution');"
   ]
  },
  {
   "cell_type": "code",
   "execution_count": 16,
   "id": "5b88f774",
   "metadata": {},
   "outputs": [
    {
     "data": {
      "text/plain": [
       "0.0    204\n",
       "1.0     99\n",
       "Name: exang, dtype: int64"
      ]
     },
     "execution_count": 16,
     "metadata": {},
     "output_type": "execute_result"
    }
   ],
   "source": [
    "heart_df['exang'].value_counts()\n",
    "# Exercised Induced Angina\n",
    "# Value 1 = Yes\n",
    "# Value 2 = No"
   ]
  },
  {
   "cell_type": "code",
   "execution_count": 17,
   "id": "1b60e18f",
   "metadata": {},
   "outputs": [
    {
     "data": {
      "image/png": "[encoded data removed]",
      "text/plain": [
       "<Figure size 432x288 with 1 Axes>"
      ]
     },
     "metadata": {
      "needs_background": "light"
     },
     "output_type": "display_data"
    }
   ],
   "source": [
    "heart_df['oldpeak'].plot(kind = 'hist', bins = 10, title = 'ST depression distribution');\n",
    "\n",
    "# oldpeak = ST depression induced by exercise relative to rest "
   ]
  },
  {
   "cell_type": "code",
   "execution_count": 18,
   "id": "bf9cb70a",
   "metadata": {},
   "outputs": [
    {
     "data": {
      "text/plain": [
       "1.0    142\n",
       "2.0    140\n",
       "3.0     21\n",
       "Name: slope, dtype: int64"
      ]
     },
     "execution_count": 18,
     "metadata": {},
     "output_type": "execute_result"
    }
   ],
   "source": [
    "heart_df['slope'].value_counts()\n",
    "\n",
    "# slope: the slope of the peak exercise ST segment\n",
    "# Value 1: upsloping\n",
    "# Value 2: flat\n",
    "# Value 3: downsloping "
   ]
  },
  {
   "cell_type": "code",
   "execution_count": 19,
   "id": "46424fc8",
   "metadata": {},
   "outputs": [
    {
     "data": {
      "text/plain": [
       "0.0    176\n",
       "1.0     65\n",
       "2.0     38\n",
       "3.0     20\n",
       "?        4\n",
       "Name: ca, dtype: int64"
      ]
     },
     "execution_count": 19,
     "metadata": {},
     "output_type": "execute_result"
    }
   ],
   "source": [
    "heart_df['ca'].value_counts()\n",
    "# number of major vessels (0-3) colored by flourosopy "
   ]
  },
  {
   "cell_type": "code",
   "execution_count": 20,
   "id": "5ac3bfbd",
   "metadata": {},
   "outputs": [
    {
     "data": {
      "text/html": [
       "<div>\n",
       "<style scoped>\n",
       "    .dataframe tbody tr th:only-of-type {\n",
       "        vertical-align: middle;\n",
       "    }\n",
       "\n",
       "    .dataframe tbody tr th {\n",
       "        vertical-align: top;\n",
       "    }\n",
       "\n",
       "    .dataframe thead th {\n",
       "        text-align: right;\n",
       "    }\n",
       "</style>\n",
       "<table border=\"1\" class=\"dataframe\">\n",
       "  <thead>\n",
       "    <tr style=\"text-align: right;\">\n",
       "      <th></th>\n",
       "      <th>age</th>\n",
       "      <th>sex</th>\n",
       "      <th>cp</th>\n",
       "      <th>trestbps</th>\n",
       "      <th>chol</th>\n",
       "      <th>fbs</th>\n",
       "      <th>restecg</th>\n",
       "      <th>thalach</th>\n",
       "      <th>exang</th>\n",
       "      <th>oldpeak</th>\n",
       "      <th>slope</th>\n",
       "      <th>ca</th>\n",
       "      <th>thal</th>\n",
       "      <th>num</th>\n",
       "      <th>hasCVD</th>\n",
       "    </tr>\n",
       "  </thead>\n",
       "  <tbody>\n",
       "    <tr>\n",
       "      <th>166</th>\n",
       "      <td>52.0</td>\n",
       "      <td>1.0</td>\n",
       "      <td>3.0</td>\n",
       "      <td>138.0</td>\n",
       "      <td>223.0</td>\n",
       "      <td>0.0</td>\n",
       "      <td>0.0</td>\n",
       "      <td>169.0</td>\n",
       "      <td>0.0</td>\n",
       "      <td>0.0</td>\n",
       "      <td>1.0</td>\n",
       "      <td>?</td>\n",
       "      <td>3.0</td>\n",
       "      <td>0</td>\n",
       "      <td>0</td>\n",
       "    </tr>\n",
       "    <tr>\n",
       "      <th>192</th>\n",
       "      <td>43.0</td>\n",
       "      <td>1.0</td>\n",
       "      <td>4.0</td>\n",
       "      <td>132.0</td>\n",
       "      <td>247.0</td>\n",
       "      <td>1.0</td>\n",
       "      <td>2.0</td>\n",
       "      <td>143.0</td>\n",
       "      <td>1.0</td>\n",
       "      <td>0.1</td>\n",
       "      <td>2.0</td>\n",
       "      <td>?</td>\n",
       "      <td>7.0</td>\n",
       "      <td>1</td>\n",
       "      <td>1</td>\n",
       "    </tr>\n",
       "    <tr>\n",
       "      <th>287</th>\n",
       "      <td>58.0</td>\n",
       "      <td>1.0</td>\n",
       "      <td>2.0</td>\n",
       "      <td>125.0</td>\n",
       "      <td>220.0</td>\n",
       "      <td>0.0</td>\n",
       "      <td>0.0</td>\n",
       "      <td>144.0</td>\n",
       "      <td>0.0</td>\n",
       "      <td>0.4</td>\n",
       "      <td>2.0</td>\n",
       "      <td>?</td>\n",
       "      <td>7.0</td>\n",
       "      <td>0</td>\n",
       "      <td>0</td>\n",
       "    </tr>\n",
       "    <tr>\n",
       "      <th>302</th>\n",
       "      <td>38.0</td>\n",
       "      <td>1.0</td>\n",
       "      <td>3.0</td>\n",
       "      <td>138.0</td>\n",
       "      <td>175.0</td>\n",
       "      <td>0.0</td>\n",
       "      <td>0.0</td>\n",
       "      <td>173.0</td>\n",
       "      <td>0.0</td>\n",
       "      <td>0.0</td>\n",
       "      <td>1.0</td>\n",
       "      <td>?</td>\n",
       "      <td>3.0</td>\n",
       "      <td>0</td>\n",
       "      <td>0</td>\n",
       "    </tr>\n",
       "  </tbody>\n",
       "</table>\n",
       "</div>"
      ],
      "text/plain": [
       "      age  sex   cp  trestbps   chol  fbs  restecg  thalach  exang  oldpeak  \\\n",
       "166  52.0  1.0  3.0     138.0  223.0  0.0      0.0    169.0    0.0      0.0   \n",
       "192  43.0  1.0  4.0     132.0  247.0  1.0      2.0    143.0    1.0      0.1   \n",
       "287  58.0  1.0  2.0     125.0  220.0  0.0      0.0    144.0    0.0      0.4   \n",
       "302  38.0  1.0  3.0     138.0  175.0  0.0      0.0    173.0    0.0      0.0   \n",
       "\n",
       "     slope ca thal  num  hasCVD  \n",
       "166    1.0  ?  3.0    0       0  \n",
       "192    2.0  ?  7.0    1       1  \n",
       "287    2.0  ?  7.0    0       0  \n",
       "302    1.0  ?  3.0    0       0  "
      ]
     },
     "execution_count": 20,
     "metadata": {},
     "output_type": "execute_result"
    }
   ],
   "source": [
    "heart_df.loc[heart_df['ca'] == '?']"
   ]
  },
  {
   "cell_type": "code",
   "execution_count": 21,
   "id": "f2dc4f9f",
   "metadata": {},
   "outputs": [
    {
     "data": {
      "text/plain": [
       "3.0    166\n",
       "7.0    117\n",
       "6.0     18\n",
       "?        2\n",
       "Name: thal, dtype: int64"
      ]
     },
     "execution_count": 21,
     "metadata": {},
     "output_type": "execute_result"
    }
   ],
   "source": [
    "heart_df['thal'].value_counts()\n",
    "# thal: 3 = normal; 6 = fixed defect; 7 = reversable defect "
   ]
  },
  {
   "cell_type": "code",
   "execution_count": 22,
   "id": "660503e0",
   "metadata": {},
   "outputs": [
    {
     "data": {
      "image/png": "[encoded data removed]",
      "text/plain": [
       "<Figure size 432x288 with 1 Axes>"
      ]
     },
     "metadata": {
      "needs_background": "light"
     },
     "output_type": "display_data"
    }
   ],
   "source": [
    "heart_df['num'].plot(kind = 'hist', bins = 5, title = 'CVD dx distribution');"
   ]
  },
  {
   "cell_type": "code",
   "execution_count": 23,
   "id": "50e3060d",
   "metadata": {},
   "outputs": [
    {
     "data": {
      "image/png": "[encoded data removed]",
      "text/plain": [
       "<Figure size 864x720 with 2 Axes>"
      ]
     },
     "metadata": {
      "needs_background": "light"
     },
     "output_type": "display_data"
    }
   ],
   "source": [
    "plt.figure(figsize=(12,10))\n",
    "sns.heatmap(heart_df.corr(),annot=True,cmap=\"magma\",fmt='.2f')\n",
    "plt.suptitle('Correlation coefficient', y = 1.01);"
   ]
  },
  {
   "cell_type": "code",
   "execution_count": 24,
   "id": "003fa2c5",
   "metadata": {},
   "outputs": [],
   "source": [
    "# Step 4: feature engineering\n",
    "## maybe add BMI (weight and height), cholesterol ratio (hdl and chol)\n",
    "## 1) age bands for age variable\n",
    "bins = [0, 20, 30, 40, 50, 60, 70, 80, 90]\n",
    "labels = ['0-20', '20-30', '30-40', '40-50', '50-60', '60-70', '70-80', '80-90']\n",
    "heart_df['age_band'] = pd.cut(heart_df['age'], bins=bins, labels=labels)"
   ]
  },
  {
   "cell_type": "code",
   "execution_count": 25,
   "id": "f9efce46",
   "metadata": {},
   "outputs": [],
   "source": [
    "# One-hot encode age bands\n",
    "age_onehot = pd.get_dummies(heart_df['age_band'], prefix='age')\n",
    "\n",
    "# Combine with original dataframe\n",
    "heart_df = pd.concat([heart_df, age_onehot], axis=1)"
   ]
  },
  {
   "cell_type": "code",
   "execution_count": 26,
   "id": "0a66045a",
   "metadata": {},
   "outputs": [],
   "source": [
    "# create CP description to differentiate types of chest pain\n",
    "\n",
    "heart_df['cp_desc'] = 'no_chest_pain'\n",
    "heart_df.loc[heart_df['cp'] == 1, 'cp_desc'] = 'typical_angina'\n",
    "heart_df.loc[heart_df['cp'] == 2, 'cp_desc'] = 'atypical_angina'\n",
    "heart_df.loc[heart_df['cp'] == 3, 'cp_desc'] = 'non_anginal_pain'"
   ]
  },
  {
   "cell_type": "code",
   "execution_count": 27,
   "id": "facef012",
   "metadata": {},
   "outputs": [],
   "source": [
    "# One-hot encode CP (chest pain) \n",
    "cpdesc_onehot = pd.get_dummies(heart_df['cp_desc'], prefix='cp')\n",
    "heart_df = pd.concat([heart_df, cpdesc_onehot], axis=1)"
   ]
  },
  {
   "cell_type": "code",
   "execution_count": 28,
   "id": "e4a11264",
   "metadata": {},
   "outputs": [],
   "source": [
    "# create gender dummy\n",
    "heart_df['is_male'] = 0\n",
    "heart_df.loc[heart_df['sex'] ==1, 'is_male'] = 1"
   ]
  },
  {
   "cell_type": "code",
   "execution_count": 29,
   "id": "fb88b564",
   "metadata": {},
   "outputs": [],
   "source": [
    "# creating categorical variable for trestbps\n",
    "## 90 and below = hypotension\n",
    "## 120 and below = normal\n",
    "## above 120 = hypertension\n",
    "\n",
    "bins = [0, 90, 120, 100000]\n",
    "labels = ['hypotension', 'normal', 'hypertension']\n",
    "heart_df['BP_range'] = pd.cut(heart_df['trestbps'], bins=bins, labels=labels)"
   ]
  },
  {
   "cell_type": "code",
   "execution_count": 30,
   "id": "a21d0308",
   "metadata": {},
   "outputs": [
    {
     "data": {
      "text/plain": [
       "hypertension    206\n",
       "normal           97\n",
       "hypotension       0\n",
       "Name: BP_range, dtype: int64"
      ]
     },
     "execution_count": 30,
     "metadata": {},
     "output_type": "execute_result"
    }
   ],
   "source": [
    "heart_df['BP_range'].value_counts()"
   ]
  },
  {
   "cell_type": "code",
   "execution_count": 31,
   "id": "ebb0f64c",
   "metadata": {},
   "outputs": [],
   "source": [
    "# One-hot encode BP_range\n",
    "bprange_onehot = pd.get_dummies(heart_df['BP_range'], prefix='bp')\n",
    "heart_df = pd.concat([heart_df, bprange_onehot], axis=1)"
   ]
  },
  {
   "cell_type": "code",
   "execution_count": 32,
   "id": "93600ab5",
   "metadata": {},
   "outputs": [],
   "source": [
    "# create categorical variable for chol; serem / total chelesterol\n",
    "## less than 200; normal\n",
    "## 200 to 239; borderline high\n",
    "## 240; high\n",
    "\n",
    "bins = [0, 200, 240, 100000]\n",
    "labels = ['normal', 'boderline_high', 'high']\n",
    "heart_df['serum_chol_range'] = pd.cut(heart_df['chol'], bins=bins, labels=labels)"
   ]
  },
  {
   "cell_type": "code",
   "execution_count": 33,
   "id": "b0a962c0",
   "metadata": {},
   "outputs": [
    {
     "data": {
      "text/plain": [
       "high              152\n",
       "boderline_high    101\n",
       "normal             50\n",
       "Name: serum_chol_range, dtype: int64"
      ]
     },
     "execution_count": 33,
     "metadata": {},
     "output_type": "execute_result"
    }
   ],
   "source": [
    "heart_df['serum_chol_range'].value_counts()"
   ]
  },
  {
   "cell_type": "code",
   "execution_count": 34,
   "id": "4c7746a5",
   "metadata": {},
   "outputs": [],
   "source": [
    "serum_oneshot = pd.get_dummies(heart_df['serum_chol_range'], prefix='chol')\n",
    "heart_df = pd.concat([heart_df, serum_oneshot], axis=1)"
   ]
  },
  {
   "cell_type": "code",
   "execution_count": 35,
   "id": "b82f0eef",
   "metadata": {},
   "outputs": [],
   "source": [
    "# create fbs dummy\n",
    "heart_df['is_high_fbs'] = 0\n",
    "heart_df.loc[heart_df['fbs'] ==1, 'is_high_fbs'] = 1"
   ]
  },
  {
   "cell_type": "code",
   "execution_count": 36,
   "id": "c2a958d4",
   "metadata": {},
   "outputs": [
    {
     "name": "stdout",
     "output_type": "stream",
     "text": [
      "0    258\n",
      "1     45\n",
      "Name: is_high_fbs, dtype: int64\n",
      "0.0    258\n",
      "1.0     45\n",
      "Name: fbs, dtype: int64\n"
     ]
    }
   ],
   "source": [
    "print(heart_df['is_high_fbs'].value_counts())\n",
    "print(heart_df['fbs'].value_counts())"
   ]
  },
  {
   "cell_type": "code",
   "execution_count": 37,
   "id": "2ed35ea0",
   "metadata": {},
   "outputs": [],
   "source": [
    "# Value 0: normal\n",
    "# Value 1: having ST-T wave abnormality (T wave inversions and/or ST elevation or depression of > 0.05 mV)\n",
    "# Value 2: showing probable or definite left ventricular hypertrophy by Estes' criteria (possible HBP?)\n",
    "\n",
    "# create dummy for resting ecg; dx of LVH (left ventricular hypertrophy) or not?\n",
    "heart_df['is_lvh_dx'] = 1\n",
    "heart_df.loc[heart_df['restecg'] == 0, 'is_lvh_dx'] = 0"
   ]
  },
  {
   "cell_type": "code",
   "execution_count": 38,
   "id": "62bb0cf3",
   "metadata": {},
   "outputs": [
    {
     "name": "stdout",
     "output_type": "stream",
     "text": [
      "1    152\n",
      "0    151\n",
      "Name: is_lvh_dx, dtype: int64\n",
      "0.0    151\n",
      "2.0    148\n",
      "1.0      4\n",
      "Name: restecg, dtype: int64\n"
     ]
    }
   ],
   "source": [
    "print(heart_df['is_lvh_dx'].value_counts())\n",
    "print(heart_df['restecg'].value_counts())"
   ]
  },
  {
   "cell_type": "code",
   "execution_count": 39,
   "id": "f5ccf03a",
   "metadata": {},
   "outputs": [],
   "source": [
    "# create variable to maximum target heart rate for moderate physical activity; 76%\n",
    "# source: https://www.cdc.gov/physicalactivity/basics/measuring/heartrate.htm\n",
    "heart_df['76pp_heartrate'] = 0.76 * (220 - heart_df['age'])"
   ]
  },
  {
   "cell_type": "code",
   "execution_count": 40,
   "id": "c36bb724",
   "metadata": {},
   "outputs": [],
   "source": [
    "# create dummy for resting ecg; dx of LVH (left ventricular hypertrophy) or not?\n",
    "heart_df['is_overexert_heartrate'] = 0\n",
    "heart_df.loc[heart_df['76pp_heartrate'] > heart_df['thalach'], 'is_overexert_heartrate'] = 1"
   ]
  },
  {
   "cell_type": "code",
   "execution_count": 41,
   "id": "e085aa40",
   "metadata": {},
   "outputs": [
    {
     "data": {
      "text/plain": [
       "0    254\n",
       "1     49\n",
       "Name: is_overexert_heartrate, dtype: int64"
      ]
     },
     "execution_count": 41,
     "metadata": {},
     "output_type": "execute_result"
    }
   ],
   "source": [
    "heart_df['is_overexert_heartrate'].value_counts()"
   ]
  },
  {
   "cell_type": "code",
   "execution_count": 42,
   "id": "e52a4702",
   "metadata": {},
   "outputs": [
    {
     "data": {
      "text/plain": [
       "<Figure size 864x864 with 0 Axes>"
      ]
     },
     "metadata": {},
     "output_type": "display_data"
    },
    {
     "data": {
      "image/png": "[encoded data removed]",
      "text/plain": [
       "<Figure size 360x360 with 6 Axes>"
      ]
     },
     "metadata": {
      "needs_background": "light"
     },
     "output_type": "display_data"
    }
   ],
   "source": [
    "plt.figure(figsize=(12,12))\n",
    "ax = sns.pairplot(heart_df, vars = ['age', 'is_overexert_heartrate'])\n",
    "\n",
    "plt.suptitle('Pair plot of Age and overexert HR dummy', y = 1.01);\n",
    "\n",
    "# data shows quite a good spread of ages for individuals that seem to have overexerted"
   ]
  },
  {
   "cell_type": "code",
   "execution_count": 43,
   "id": "0fd52cda",
   "metadata": {},
   "outputs": [],
   "source": [
    "# Exercised Induced Angina\n",
    "# Value 1 = Yes\n",
    "# Value 2 = No\n",
    "\n",
    "# create dummy for exerise induced angina / chest pain\n",
    "heart_df['is_exercise_cp'] = 1\n",
    "heart_df.loc[heart_df['exang'] == 0, 'is_exercise_cp'] = 0"
   ]
  },
  {
   "cell_type": "code",
   "execution_count": 44,
   "id": "36cc530e",
   "metadata": {},
   "outputs": [
    {
     "name": "stdout",
     "output_type": "stream",
     "text": [
      "0.0    204\n",
      "1.0     99\n",
      "Name: exang, dtype: int64\n",
      "0    204\n",
      "1     99\n",
      "Name: is_exercise_cp, dtype: int64\n"
     ]
    }
   ],
   "source": [
    "print(heart_df['exang'].value_counts())\n",
    "print(heart_df['is_exercise_cp'].value_counts())"
   ]
  },
  {
   "cell_type": "code",
   "execution_count": 45,
   "id": "1603be2a",
   "metadata": {},
   "outputs": [],
   "source": [
    "# use oldpeak as-is"
   ]
  },
  {
   "cell_type": "code",
   "execution_count": 46,
   "id": "b5551e1e",
   "metadata": {},
   "outputs": [],
   "source": [
    "#slope - creating a new st_slope_desc variable to description\n",
    "heart_df['st_slope_desc'] = ''\n",
    "heart_df.loc[heart_df['slope'] == 3, 'st_slope_desc'] = 'downsloping'\n",
    "heart_df.loc[heart_df['slope'] == 2, 'st_slope_desc'] = 'flat'\n",
    "heart_df.loc[heart_df['slope'] == 1, 'st_slope_desc'] = 'upsloping'"
   ]
  },
  {
   "cell_type": "code",
   "execution_count": 47,
   "id": "15d7d51f",
   "metadata": {},
   "outputs": [
    {
     "name": "stdout",
     "output_type": "stream",
     "text": [
      "1.0    142\n",
      "2.0    140\n",
      "3.0     21\n",
      "Name: slope, dtype: int64\n",
      "upsloping      142\n",
      "flat           140\n",
      "downsloping     21\n",
      "Name: st_slope_desc, dtype: int64\n"
     ]
    }
   ],
   "source": [
    "print(heart_df['slope'].value_counts())\n",
    "print(heart_df['st_slope_desc'].value_counts())"
   ]
  },
  {
   "cell_type": "code",
   "execution_count": 48,
   "id": "9e7d4ccd",
   "metadata": {},
   "outputs": [],
   "source": [
    "# One-hot encode BP_range\n",
    "slope_onehot = pd.get_dummies(heart_df['st_slope_desc'], prefix='st_slope')\n",
    "heart_df = pd.concat([heart_df, slope_onehot], axis=1)"
   ]
  },
  {
   "cell_type": "code",
   "execution_count": 49,
   "id": "5f52f625",
   "metadata": {},
   "outputs": [],
   "source": [
    "# clean up CA\n",
    "heart_df['maj_vessels_coloured'] = 0\n",
    "heart_df.loc[heart_df['ca'] == '1.0', 'maj_vessels_coloured'] = 1\n",
    "heart_df.loc[heart_df['ca'] == '2.0', 'maj_vessels_coloured'] = 2\n",
    "heart_df.loc[heart_df['ca'] == '3.0', 'maj_vessels_coloured'] = 3"
   ]
  },
  {
   "cell_type": "code",
   "execution_count": 50,
   "id": "8b4dddb0",
   "metadata": {},
   "outputs": [
    {
     "name": "stdout",
     "output_type": "stream",
     "text": [
      "0.0    176\n",
      "1.0     65\n",
      "2.0     38\n",
      "3.0     20\n",
      "?        4\n",
      "Name: ca, dtype: int64\n",
      "0    180\n",
      "1     65\n",
      "2     38\n",
      "3     20\n",
      "Name: maj_vessels_coloured, dtype: int64\n"
     ]
    }
   ],
   "source": [
    "print(heart_df['ca'].value_counts())\n",
    "print(heart_df['maj_vessels_coloured'].value_counts())"
   ]
  },
  {
   "cell_type": "code",
   "execution_count": 51,
   "id": "ec84b767",
   "metadata": {},
   "outputs": [],
   "source": [
    "# create thal desc and then one-hot\n",
    "heart_df['thalassemia_type'] = 'normal'\n",
    "heart_df.loc[heart_df['thal'] == '6.0', 'thalassemia_type'] = 'fixed defect'\n",
    "heart_df.loc[heart_df['thal'] == '7.0', 'thalassemia_type'] ='reversable defect'"
   ]
  },
  {
   "cell_type": "code",
   "execution_count": 52,
   "id": "6ceaba7d",
   "metadata": {},
   "outputs": [
    {
     "name": "stdout",
     "output_type": "stream",
     "text": [
      "3.0    166\n",
      "7.0    117\n",
      "6.0     18\n",
      "?        2\n",
      "Name: thal, dtype: int64\n",
      "normal               168\n",
      "reversable defect    117\n",
      "fixed defect          18\n",
      "Name: thalassemia_type, dtype: int64\n"
     ]
    }
   ],
   "source": [
    "print(heart_df['thal'].value_counts())\n",
    "print(heart_df['thalassemia_type'].value_counts())"
   ]
  },
  {
   "cell_type": "code",
   "execution_count": 53,
   "id": "2e9aaee8",
   "metadata": {},
   "outputs": [],
   "source": [
    "# One-hot encode thal\n",
    "thal_onehot = pd.get_dummies(heart_df['thalassemia_type'], prefix='thal')\n",
    "heart_df = pd.concat([heart_df, thal_onehot], axis=1)"
   ]
  },
  {
   "cell_type": "code",
   "execution_count": 54,
   "id": "2b884510",
   "metadata": {},
   "outputs": [
    {
     "data": {
      "text/plain": [
       "['age',\n",
       " 'sex',\n",
       " 'cp',\n",
       " 'trestbps',\n",
       " 'chol',\n",
       " 'fbs',\n",
       " 'restecg',\n",
       " 'thalach',\n",
       " 'exang',\n",
       " 'oldpeak',\n",
       " 'slope',\n",
       " 'ca',\n",
       " 'thal',\n",
       " 'num',\n",
       " 'hasCVD',\n",
       " 'age_band',\n",
       " 'age_0-20',\n",
       " 'age_20-30',\n",
       " 'age_30-40',\n",
       " 'age_40-50',\n",
       " 'age_50-60',\n",
       " 'age_60-70',\n",
       " 'age_70-80',\n",
       " 'age_80-90',\n",
       " 'cp_desc',\n",
       " 'cp_atypical_angina',\n",
       " 'cp_no_chest_pain',\n",
       " 'cp_non_anginal_pain',\n",
       " 'cp_typical_angina',\n",
       " 'is_male',\n",
       " 'BP_range',\n",
       " 'bp_hypotension',\n",
       " 'bp_normal',\n",
       " 'bp_hypertension',\n",
       " 'serum_chol_range',\n",
       " 'chol_normal',\n",
       " 'chol_boderline_high',\n",
       " 'chol_high',\n",
       " 'is_high_fbs',\n",
       " 'is_lvh_dx',\n",
       " '76pp_heartrate',\n",
       " 'is_overexert_heartrate',\n",
       " 'is_exercise_cp',\n",
       " 'st_slope_desc',\n",
       " 'st_slope_downsloping',\n",
       " 'st_slope_flat',\n",
       " 'st_slope_upsloping',\n",
       " 'maj_vessels_coloured',\n",
       " 'thalassemia_type',\n",
       " 'thal_fixed defect',\n",
       " 'thal_normal',\n",
       " 'thal_reversable defect']"
      ]
     },
     "execution_count": 54,
     "metadata": {},
     "output_type": "execute_result"
    }
   ],
   "source": [
    "#heart_df.dtypes\n",
    "list(heart_df)"
   ]
  },
  {
   "cell_type": "code",
   "execution_count": 55,
   "id": "1d1e45ce",
   "metadata": {},
   "outputs": [],
   "source": [
    "# create dataframe for model building by dropping variables\n",
    "model_df = heart_df[[ 'hasCVD',\n",
    "                     'oldpeak',\n",
    "                     'age_0-20',\n",
    "                     'age_20-30',\n",
    "                     'age_30-40',\n",
    "                     'age_40-50',\n",
    "                     'age_50-60',\n",
    "                     'age_60-70',\n",
    "                     'age_70-80',\n",
    "                     'age_80-90',\n",
    "                     'cp_atypical_angina',\n",
    "                     'cp_no_chest_pain',\n",
    "                     'cp_non_anginal_pain',\n",
    "                     'cp_typical_angina',\n",
    "                     'is_male',\n",
    "                     # 'bp_hypotension', turn this one off because there are NO values in this category\n",
    "                     'bp_normal',\n",
    "                     'bp_hypertension',\n",
    "                     'chol_normal',\n",
    "                     'chol_boderline_high',\n",
    "                     'chol_high',\n",
    "                     'is_high_fbs',\n",
    "                     'is_lvh_dx',\n",
    "                     'is_overexert_heartrate',\n",
    "                     'is_exercise_cp',\n",
    "                     'st_slope_downsloping',\n",
    "                     'st_slope_flat',\n",
    "                     'st_slope_upsloping',\n",
    "                     'maj_vessels_coloured',\n",
    "                     'thal_fixed defect',\n",
    "                     'thal_normal',\n",
    "                     'thal_reversable defect']]"
   ]
  },
  {
   "cell_type": "code",
   "execution_count": 56,
   "id": "2223ccd9",
   "metadata": {},
   "outputs": [
    {
     "data": {
      "text/html": [
       "<div>\n",
       "<style scoped>\n",
       "    .dataframe tbody tr th:only-of-type {\n",
       "        vertical-align: middle;\n",
       "    }\n",
       "\n",
       "    .dataframe tbody tr th {\n",
       "        vertical-align: top;\n",
       "    }\n",
       "\n",
       "    .dataframe thead th {\n",
       "        text-align: right;\n",
       "    }\n",
       "</style>\n",
       "<table border=\"1\" class=\"dataframe\">\n",
       "  <thead>\n",
       "    <tr style=\"text-align: right;\">\n",
       "      <th></th>\n",
       "      <th>hasCVD</th>\n",
       "      <th>oldpeak</th>\n",
       "      <th>age_0-20</th>\n",
       "      <th>age_20-30</th>\n",
       "      <th>age_30-40</th>\n",
       "      <th>age_40-50</th>\n",
       "      <th>age_50-60</th>\n",
       "      <th>age_60-70</th>\n",
       "      <th>age_70-80</th>\n",
       "      <th>age_80-90</th>\n",
       "      <th>...</th>\n",
       "      <th>is_lvh_dx</th>\n",
       "      <th>is_overexert_heartrate</th>\n",
       "      <th>is_exercise_cp</th>\n",
       "      <th>st_slope_downsloping</th>\n",
       "      <th>st_slope_flat</th>\n",
       "      <th>st_slope_upsloping</th>\n",
       "      <th>maj_vessels_coloured</th>\n",
       "      <th>thal_fixed defect</th>\n",
       "      <th>thal_normal</th>\n",
       "      <th>thal_reversable defect</th>\n",
       "    </tr>\n",
       "  </thead>\n",
       "  <tbody>\n",
       "    <tr>\n",
       "      <th>0</th>\n",
       "      <td>0</td>\n",
       "      <td>2.3</td>\n",
       "      <td>0</td>\n",
       "      <td>0</td>\n",
       "      <td>0</td>\n",
       "      <td>0</td>\n",
       "      <td>0</td>\n",
       "      <td>1</td>\n",
       "      <td>0</td>\n",
       "      <td>0</td>\n",
       "      <td>...</td>\n",
       "      <td>1</td>\n",
       "      <td>0</td>\n",
       "      <td>0</td>\n",
       "      <td>1</td>\n",
       "      <td>0</td>\n",
       "      <td>0</td>\n",
       "      <td>0</td>\n",
       "      <td>1</td>\n",
       "      <td>0</td>\n",
       "      <td>0</td>\n",
       "    </tr>\n",
       "    <tr>\n",
       "      <th>1</th>\n",
       "      <td>1</td>\n",
       "      <td>1.5</td>\n",
       "      <td>0</td>\n",
       "      <td>0</td>\n",
       "      <td>0</td>\n",
       "      <td>0</td>\n",
       "      <td>0</td>\n",
       "      <td>1</td>\n",
       "      <td>0</td>\n",
       "      <td>0</td>\n",
       "      <td>...</td>\n",
       "      <td>1</td>\n",
       "      <td>1</td>\n",
       "      <td>1</td>\n",
       "      <td>0</td>\n",
       "      <td>1</td>\n",
       "      <td>0</td>\n",
       "      <td>3</td>\n",
       "      <td>0</td>\n",
       "      <td>1</td>\n",
       "      <td>0</td>\n",
       "    </tr>\n",
       "    <tr>\n",
       "      <th>2</th>\n",
       "      <td>1</td>\n",
       "      <td>2.6</td>\n",
       "      <td>0</td>\n",
       "      <td>0</td>\n",
       "      <td>0</td>\n",
       "      <td>0</td>\n",
       "      <td>0</td>\n",
       "      <td>1</td>\n",
       "      <td>0</td>\n",
       "      <td>0</td>\n",
       "      <td>...</td>\n",
       "      <td>1</td>\n",
       "      <td>0</td>\n",
       "      <td>1</td>\n",
       "      <td>0</td>\n",
       "      <td>1</td>\n",
       "      <td>0</td>\n",
       "      <td>2</td>\n",
       "      <td>0</td>\n",
       "      <td>0</td>\n",
       "      <td>1</td>\n",
       "    </tr>\n",
       "    <tr>\n",
       "      <th>3</th>\n",
       "      <td>0</td>\n",
       "      <td>3.5</td>\n",
       "      <td>0</td>\n",
       "      <td>0</td>\n",
       "      <td>1</td>\n",
       "      <td>0</td>\n",
       "      <td>0</td>\n",
       "      <td>0</td>\n",
       "      <td>0</td>\n",
       "      <td>0</td>\n",
       "      <td>...</td>\n",
       "      <td>0</td>\n",
       "      <td>0</td>\n",
       "      <td>0</td>\n",
       "      <td>1</td>\n",
       "      <td>0</td>\n",
       "      <td>0</td>\n",
       "      <td>0</td>\n",
       "      <td>0</td>\n",
       "      <td>1</td>\n",
       "      <td>0</td>\n",
       "    </tr>\n",
       "    <tr>\n",
       "      <th>4</th>\n",
       "      <td>0</td>\n",
       "      <td>1.4</td>\n",
       "      <td>0</td>\n",
       "      <td>0</td>\n",
       "      <td>0</td>\n",
       "      <td>1</td>\n",
       "      <td>0</td>\n",
       "      <td>0</td>\n",
       "      <td>0</td>\n",
       "      <td>0</td>\n",
       "      <td>...</td>\n",
       "      <td>1</td>\n",
       "      <td>0</td>\n",
       "      <td>0</td>\n",
       "      <td>0</td>\n",
       "      <td>0</td>\n",
       "      <td>1</td>\n",
       "      <td>0</td>\n",
       "      <td>0</td>\n",
       "      <td>1</td>\n",
       "      <td>0</td>\n",
       "    </tr>\n",
       "  </tbody>\n",
       "</table>\n",
       "<p>5 rows × 31 columns</p>\n",
       "</div>"
      ],
      "text/plain": [
       "   hasCVD  oldpeak  age_0-20  age_20-30  age_30-40  age_40-50  age_50-60  \\\n",
       "0       0      2.3         0          0          0          0          0   \n",
       "1       1      1.5         0          0          0          0          0   \n",
       "2       1      2.6         0          0          0          0          0   \n",
       "3       0      3.5         0          0          1          0          0   \n",
       "4       0      1.4         0          0          0          1          0   \n",
       "\n",
       "   age_60-70  age_70-80  age_80-90  ...  is_lvh_dx  is_overexert_heartrate  \\\n",
       "0          1          0          0  ...          1                       0   \n",
       "1          1          0          0  ...          1                       1   \n",
       "2          1          0          0  ...          1                       0   \n",
       "3          0          0          0  ...          0                       0   \n",
       "4          0          0          0  ...          1                       0   \n",
       "\n",
       "   is_exercise_cp  st_slope_downsloping  st_slope_flat  st_slope_upsloping  \\\n",
       "0               0                     1              0                   0   \n",
       "1               1                     0              1                   0   \n",
       "2               1                     0              1                   0   \n",
       "3               0                     1              0                   0   \n",
       "4               0                     0              0                   1   \n",
       "\n",
       "   maj_vessels_coloured  thal_fixed defect  thal_normal  \\\n",
       "0                     0                  1            0   \n",
       "1                     3                  0            1   \n",
       "2                     2                  0            0   \n",
       "3                     0                  0            1   \n",
       "4                     0                  0            1   \n",
       "\n",
       "   thal_reversable defect  \n",
       "0                       0  \n",
       "1                       0  \n",
       "2                       1  \n",
       "3                       0  \n",
       "4                       0  \n",
       "\n",
       "[5 rows x 31 columns]"
      ]
     },
     "execution_count": 56,
     "metadata": {},
     "output_type": "execute_result"
    }
   ],
   "source": [
    "model_df.head()"
   ]
  },
  {
   "cell_type": "code",
   "execution_count": 57,
   "id": "2f12da8c",
   "metadata": {},
   "outputs": [
    {
     "data": {
      "text/html": [
       "<div>\n",
       "<style scoped>\n",
       "    .dataframe tbody tr th:only-of-type {\n",
       "        vertical-align: middle;\n",
       "    }\n",
       "\n",
       "    .dataframe tbody tr th {\n",
       "        vertical-align: top;\n",
       "    }\n",
       "\n",
       "    .dataframe thead th {\n",
       "        text-align: right;\n",
       "    }\n",
       "</style>\n",
       "<table border=\"1\" class=\"dataframe\">\n",
       "  <thead>\n",
       "    <tr style=\"text-align: right;\">\n",
       "      <th></th>\n",
       "      <th>oldpeak</th>\n",
       "      <th>age_0-20</th>\n",
       "      <th>age_20-30</th>\n",
       "      <th>age_30-40</th>\n",
       "      <th>age_40-50</th>\n",
       "      <th>age_50-60</th>\n",
       "      <th>age_60-70</th>\n",
       "      <th>age_70-80</th>\n",
       "      <th>age_80-90</th>\n",
       "      <th>cp_atypical_angina</th>\n",
       "      <th>...</th>\n",
       "      <th>is_lvh_dx</th>\n",
       "      <th>is_overexert_heartrate</th>\n",
       "      <th>is_exercise_cp</th>\n",
       "      <th>st_slope_downsloping</th>\n",
       "      <th>st_slope_flat</th>\n",
       "      <th>st_slope_upsloping</th>\n",
       "      <th>maj_vessels_coloured</th>\n",
       "      <th>thal_fixed defect</th>\n",
       "      <th>thal_normal</th>\n",
       "      <th>thal_reversable defect</th>\n",
       "    </tr>\n",
       "  </thead>\n",
       "  <tbody>\n",
       "    <tr>\n",
       "      <th>0</th>\n",
       "      <td>2.3</td>\n",
       "      <td>0</td>\n",
       "      <td>0</td>\n",
       "      <td>0</td>\n",
       "      <td>0</td>\n",
       "      <td>0</td>\n",
       "      <td>1</td>\n",
       "      <td>0</td>\n",
       "      <td>0</td>\n",
       "      <td>0</td>\n",
       "      <td>...</td>\n",
       "      <td>1</td>\n",
       "      <td>0</td>\n",
       "      <td>0</td>\n",
       "      <td>1</td>\n",
       "      <td>0</td>\n",
       "      <td>0</td>\n",
       "      <td>0</td>\n",
       "      <td>1</td>\n",
       "      <td>0</td>\n",
       "      <td>0</td>\n",
       "    </tr>\n",
       "    <tr>\n",
       "      <th>1</th>\n",
       "      <td>1.5</td>\n",
       "      <td>0</td>\n",
       "      <td>0</td>\n",
       "      <td>0</td>\n",
       "      <td>0</td>\n",
       "      <td>0</td>\n",
       "      <td>1</td>\n",
       "      <td>0</td>\n",
       "      <td>0</td>\n",
       "      <td>0</td>\n",
       "      <td>...</td>\n",
       "      <td>1</td>\n",
       "      <td>1</td>\n",
       "      <td>1</td>\n",
       "      <td>0</td>\n",
       "      <td>1</td>\n",
       "      <td>0</td>\n",
       "      <td>3</td>\n",
       "      <td>0</td>\n",
       "      <td>1</td>\n",
       "      <td>0</td>\n",
       "    </tr>\n",
       "    <tr>\n",
       "      <th>2</th>\n",
       "      <td>2.6</td>\n",
       "      <td>0</td>\n",
       "      <td>0</td>\n",
       "      <td>0</td>\n",
       "      <td>0</td>\n",
       "      <td>0</td>\n",
       "      <td>1</td>\n",
       "      <td>0</td>\n",
       "      <td>0</td>\n",
       "      <td>0</td>\n",
       "      <td>...</td>\n",
       "      <td>1</td>\n",
       "      <td>0</td>\n",
       "      <td>1</td>\n",
       "      <td>0</td>\n",
       "      <td>1</td>\n",
       "      <td>0</td>\n",
       "      <td>2</td>\n",
       "      <td>0</td>\n",
       "      <td>0</td>\n",
       "      <td>1</td>\n",
       "    </tr>\n",
       "    <tr>\n",
       "      <th>3</th>\n",
       "      <td>3.5</td>\n",
       "      <td>0</td>\n",
       "      <td>0</td>\n",
       "      <td>1</td>\n",
       "      <td>0</td>\n",
       "      <td>0</td>\n",
       "      <td>0</td>\n",
       "      <td>0</td>\n",
       "      <td>0</td>\n",
       "      <td>0</td>\n",
       "      <td>...</td>\n",
       "      <td>0</td>\n",
       "      <td>0</td>\n",
       "      <td>0</td>\n",
       "      <td>1</td>\n",
       "      <td>0</td>\n",
       "      <td>0</td>\n",
       "      <td>0</td>\n",
       "      <td>0</td>\n",
       "      <td>1</td>\n",
       "      <td>0</td>\n",
       "    </tr>\n",
       "    <tr>\n",
       "      <th>4</th>\n",
       "      <td>1.4</td>\n",
       "      <td>0</td>\n",
       "      <td>0</td>\n",
       "      <td>0</td>\n",
       "      <td>1</td>\n",
       "      <td>0</td>\n",
       "      <td>0</td>\n",
       "      <td>0</td>\n",
       "      <td>0</td>\n",
       "      <td>1</td>\n",
       "      <td>...</td>\n",
       "      <td>1</td>\n",
       "      <td>0</td>\n",
       "      <td>0</td>\n",
       "      <td>0</td>\n",
       "      <td>0</td>\n",
       "      <td>1</td>\n",
       "      <td>0</td>\n",
       "      <td>0</td>\n",
       "      <td>1</td>\n",
       "      <td>0</td>\n",
       "    </tr>\n",
       "  </tbody>\n",
       "</table>\n",
       "<p>5 rows × 30 columns</p>\n",
       "</div>"
      ],
      "text/plain": [
       "   oldpeak  age_0-20  age_20-30  age_30-40  age_40-50  age_50-60  age_60-70  \\\n",
       "0      2.3         0          0          0          0          0          1   \n",
       "1      1.5         0          0          0          0          0          1   \n",
       "2      2.6         0          0          0          0          0          1   \n",
       "3      3.5         0          0          1          0          0          0   \n",
       "4      1.4         0          0          0          1          0          0   \n",
       "\n",
       "   age_70-80  age_80-90  cp_atypical_angina  ...  is_lvh_dx  \\\n",
       "0          0          0                   0  ...          1   \n",
       "1          0          0                   0  ...          1   \n",
       "2          0          0                   0  ...          1   \n",
       "3          0          0                   0  ...          0   \n",
       "4          0          0                   1  ...          1   \n",
       "\n",
       "   is_overexert_heartrate  is_exercise_cp  st_slope_downsloping  \\\n",
       "0                       0               0                     1   \n",
       "1                       1               1                     0   \n",
       "2                       0               1                     0   \n",
       "3                       0               0                     1   \n",
       "4                       0               0                     0   \n",
       "\n",
       "   st_slope_flat  st_slope_upsloping  maj_vessels_coloured  thal_fixed defect  \\\n",
       "0              0                   0                     0                  1   \n",
       "1              1                   0                     3                  0   \n",
       "2              1                   0                     2                  0   \n",
       "3              0                   0                     0                  0   \n",
       "4              0                   1                     0                  0   \n",
       "\n",
       "   thal_normal  thal_reversable defect  \n",
       "0            0                       0  \n",
       "1            1                       0  \n",
       "2            0                       1  \n",
       "3            1                       0  \n",
       "4            1                       0  \n",
       "\n",
       "[5 rows x 30 columns]"
      ]
     },
     "execution_count": 57,
     "metadata": {},
     "output_type": "execute_result"
    }
   ],
   "source": [
    "# Step 5: create training test split, \n",
    "# note to use min max scalar later as variables are NOT normally distributed\n",
    "X = model_df.loc[:, model_df.columns != 'hasCVD']\n",
    "X.head()"
   ]
  },
  {
   "cell_type": "code",
   "execution_count": 58,
   "id": "99001901",
   "metadata": {},
   "outputs": [
    {
     "data": {
      "text/plain": [
       "0    0\n",
       "1    1\n",
       "2    1\n",
       "3    0\n",
       "4    0\n",
       "Name: hasCVD, dtype: int64"
      ]
     },
     "execution_count": 58,
     "metadata": {},
     "output_type": "execute_result"
    }
   ],
   "source": [
    "y = model_df['hasCVD']\n",
    "y.head()"
   ]
  },
  {
   "cell_type": "code",
   "execution_count": 59,
   "id": "ca70935f",
   "metadata": {},
   "outputs": [],
   "source": [
    "X_train, X_test, y_train, y_test = train_test_split(X, y, test_size=0.3, random_state=1)"
   ]
  },
  {
   "cell_type": "code",
   "execution_count": 60,
   "id": "79aa930a",
   "metadata": {},
   "outputs": [
    {
     "name": "stdout",
     "output_type": "stream",
     "text": [
      "(212, 30)\n",
      "(91, 30)\n",
      "(212,)\n",
      "(91,)\n"
     ]
    }
   ],
   "source": [
    "print(X_train.shape)\n",
    "print(X_test.shape)\n",
    "print(y_train.shape)\n",
    "print(y_test.shape)"
   ]
  },
  {
   "cell_type": "code",
   "execution_count": 61,
   "id": "feff782c",
   "metadata": {},
   "outputs": [],
   "source": [
    "X_train_scale = minmax_scale(X_train)\n",
    "X_test_scale = minmax_scale(X_test)"
   ]
  },
  {
   "cell_type": "code",
   "execution_count": 62,
   "id": "7f9acdbc",
   "metadata": {},
   "outputs": [
    {
     "name": "stdout",
     "output_type": "stream",
     "text": [
      "XGBClassifier(base_score=0.5, booster='gbtree', colsample_bylevel=1,\n",
      "              colsample_bynode=1, colsample_bytree=1, eval_metric='auc',\n",
      "              gamma=0, gpu_id=-1, importance_type='gain',\n",
      "              interaction_constraints='', learning_rate=0.300000012,\n",
      "              max_delta_step=0, max_depth=6, min_child_weight=1, missing=nan,\n",
      "              monotone_constraints='()', n_estimators=100, n_jobs=4,\n",
      "              num_parallel_tree=1, random_state=1, reg_alpha=0, reg_lambda=1,\n",
      "              scale_pos_weight=1, subsample=1, tree_method='exact',\n",
      "              use_label_encoder=False, validate_parameters=1, verbosity=None)\n"
     ]
    }
   ],
   "source": [
    "# Step 6a: Initiate XGBoost model\n",
    "\n",
    "model = xgboost.XGBClassifier(use_label_encoder = False, eval_metric = 'auc', random_state = 1)\n",
    "model.fit(X_train_scale, y_train)\n",
    "\n",
    "print(model)"
   ]
  },
  {
   "cell_type": "code",
   "execution_count": 63,
   "id": "a1036863",
   "metadata": {},
   "outputs": [
    {
     "name": "stdout",
     "output_type": "stream",
     "text": [
      "AUC of test model: 0.8746\n",
      "Accuracy on test data: 76.92%\n",
      "Accuracy on train data: 99.53%\n"
     ]
    }
   ],
   "source": [
    "# Step 7a / 8a: Traiing and initial evaluation\n",
    "y_pred_prob = model.predict_proba(X_test_scale)\n",
    "y_pred = model.predict(X_test_scale)\n",
    "AUC = roc_auc_score(y_test, y_pred_prob[:,1])\n",
    "print(\"AUC of test model: %.4f\" % AUC)\n",
    "\n",
    "accuracy = accuracy_score(y_test, y_pred)\n",
    "print(\"Accuracy on test data: %.2f%%\" % (accuracy * 100.0))\n",
    "\n",
    "y_pred_train = model.predict(X_train_scale)\n",
    "accuracy = accuracy_score(y_train, y_pred_train)\n",
    "print(\"Accuracy on train data: %.2f%%\" % (accuracy * 100.0))\n",
    "# appears to be some evidence of overfitting"
   ]
  },
  {
   "cell_type": "code",
   "execution_count": 64,
   "id": "dd682f3e",
   "metadata": {},
   "outputs": [],
   "source": [
    "# Step 9a: Perform hyperparameter optimisation using RandomisedSearchCV\n",
    "from sklearn.model_selection import RandomizedSearchCV\n",
    "\n",
    "# parameters to tune\n",
    "params = {\n",
    " 'learning_rate' : [0.01, 0.1, 0.2, 0.4, 0.5],\n",
    " 'max_depth' : [2, 4, 5, 6, 8],\n",
    " 'min_child_weight' : [ 1, 2, 3, 4, 5],\n",
    " 'gamma': [ 0.0, 0.01, 0.02 , 0.1, 0.2 ],\n",
    " 'colsample_bytree' : [0.1, 0.25, 0.5, 0.75 , 1]\n",
    "}\n",
    "\n",
    "rs_model = RandomizedSearchCV(model,\n",
    "                              param_distributions=params,\n",
    "                              n_iter=5,scoring='roc_auc', n_jobs=-1,cv=5,verbose=3, random_state=1)\n"
   ]
  },
  {
   "cell_type": "code",
   "execution_count": 65,
   "id": "31df98dd",
   "metadata": {},
   "outputs": [
    {
     "name": "stdout",
     "output_type": "stream",
     "text": [
      "Fitting 5 folds for each of 5 candidates, totalling 25 fits\n"
     ]
    },
    {
     "data": {
      "text/plain": [
       "{'min_child_weight': 1,\n",
       " 'max_depth': 4,\n",
       " 'learning_rate': 0.1,\n",
       " 'gamma': 0.02,\n",
       " 'colsample_bytree': 0.25}"
      ]
     },
     "execution_count": 65,
     "metadata": {},
     "output_type": "execute_result"
    }
   ],
   "source": [
    "#model fitting\n",
    "rs_model.fit(X,y)\n",
    "\n",
    "#parameters selected\n",
    "rs_model.best_params_"
   ]
  },
  {
   "cell_type": "code",
   "execution_count": 66,
   "id": "fb2a2c34",
   "metadata": {},
   "outputs": [],
   "source": [
    "# based on the above, we pass the optimised parameters into an improved model and re-evaluate\n",
    "\n",
    "model_tuned = xgboost.XGBClassifier(base_score=0.5, booster='gbtree', colsample_bylevel=1,\n",
    "              colsample_bynode=1, colsample_bytree=0.25, eval_metric='auc',\n",
    "              gamma=0.02, gpu_id=-1, importance_type='gain',\n",
    "              interaction_constraints='', learning_rate=0.1,\n",
    "              max_delta_step=0, max_depth=4, min_child_weight=1, \n",
    "              monotone_constraints='()', n_estimators=100, n_jobs=4,\n",
    "              num_parallel_tree=1, random_state=1,\n",
    "              reg_alpha=0, reg_lambda=1, scale_pos_weight=None, subsample=1,\n",
    "              tree_method='exact', use_label_encoder=False,\n",
    "              validate_parameters=1, verbosity=None)"
   ]
  },
  {
   "cell_type": "code",
   "execution_count": 67,
   "id": "05b83ac5",
   "metadata": {},
   "outputs": [
    {
     "name": "stdout",
     "output_type": "stream",
     "text": [
      "AUC: 0.9388\n",
      "K-fold CV average score: 0.7976\n",
      "Accuracy on test data: 85.71%\n",
      "Accuracy on train data: 94.81%\n"
     ]
    },
    {
     "data": {
      "image/png": "[encoded data removed]",
      "text/plain": [
       "<Figure size 432x288 with 2 Axes>"
      ]
     },
     "metadata": {
      "needs_background": "light"
     },
     "output_type": "display_data"
    }
   ],
   "source": [
    "# Evaluation post hyperparameter tuning, performing cross validation using K-fold CV\n",
    "model_tuned.fit(X_train_scale, y_train)\n",
    "y_pred_prob_tuned = model_tuned.predict_proba(X_test_scale)\n",
    "y_pred_tuned = model_tuned.predict(X_test_scale)\n",
    "AUC = roc_auc_score(y_test, y_pred_prob_tuned[:,1])\n",
    "print(\"AUC: %.4f\" % AUC)\n",
    "\n",
    "kfold = KFold(n_splits=10, random_state=1, shuffle=True)\n",
    "kf_cv_scores = cross_val_score(model_tuned, X_train_scale, y_train, cv=kfold )\n",
    "print(\"K-fold CV average score: %.4f\" % kf_cv_scores.mean())\n",
    "\n",
    "# assessing predictions\n",
    "accuracy = accuracy_score(y_test, y_pred_tuned)\n",
    "print(\"Accuracy on test data: %.2f%%\" % (accuracy * 100.0))\n",
    "\n",
    "y_pred_train = model_tuned.predict(X_train_scale)\n",
    "accuracy = accuracy_score(y_train, y_pred_train)\n",
    "print(\"Accuracy on train data: %.2f%%\" % (accuracy * 100.0))\n",
    "\n",
    "# showing confusion matrix\n",
    "cm_tuned = confusion_matrix(y_test, y_pred_tuned)\n",
    "sns.heatmap(cm_tuned, annot = True)\n",
    "plt.title('Confusion Matrix for Tuned XGBoost')\n",
    "plt.xlabel('Predicted')\n",
    "plt.ylabel('True');\n",
    "\n"
   ]
  },
  {
   "cell_type": "code",
   "execution_count": 68,
   "id": "b27d49d1",
   "metadata": {},
   "outputs": [
    {
     "name": "stdout",
     "output_type": "stream",
     "text": [
      "              precision    recall  f1-score   support\n",
      "\n",
      "           0     0.8750    0.8571    0.8660        49\n",
      "           1     0.8372    0.8571    0.8471        42\n",
      "\n",
      "    accuracy                         0.8571        91\n",
      "   macro avg     0.8561    0.8571    0.8565        91\n",
      "weighted avg     0.8576    0.8571    0.8572        91\n",
      "\n"
     ]
    },
    {
     "data": {
      "image/png": "[encoded data removed]",
      "text/plain": [
       "<Figure size 432x288 with 1 Axes>"
      ]
     },
     "metadata": {
      "needs_background": "light"
     },
     "output_type": "display_data"
    }
   ],
   "source": [
    "print(classification_report(y_test, y_pred_tuned, digits = 4))\n",
    "fpr, tpr, _ = roc_curve(y_test,  y_pred_prob_tuned[:,1])\n",
    "\n",
    "#create ROC curve\n",
    "plt.plot(fpr, tpr, label=\"AUC=%.1f%%\" % (AUC*100))\n",
    "plt.ylabel('True Positive Rate')\n",
    "plt.xlabel('False Positive Rate')\n",
    "plt.legend(loc=4)\n",
    "plt.title('ROC for tuned XGBoost')\n",
    "plt.show();"
   ]
  },
  {
   "cell_type": "code",
   "execution_count": 69,
   "id": "ae04054a",
   "metadata": {},
   "outputs": [],
   "source": [
    "# Step 6b: Initiate Logistic Regression Model\n",
    "logr = LogisticRegression(random_state=1)"
   ]
  },
  {
   "cell_type": "code",
   "execution_count": 70,
   "id": "144c14db",
   "metadata": {},
   "outputs": [],
   "source": [
    "# fit the model with data\n",
    "logr.fit(X_train_scale, y_train.values.ravel())\n",
    "\n",
    "y_pred_logr = logr.predict(X_test_scale)"
   ]
  },
  {
   "cell_type": "code",
   "execution_count": 71,
   "id": "a19612d0",
   "metadata": {},
   "outputs": [
    {
     "name": "stdout",
     "output_type": "stream",
     "text": [
      "AUC of test model: 0.9320\n",
      "Accuracy on test data: 86.81%\n",
      "Accuracy on train data: 84.91%\n"
     ]
    }
   ],
   "source": [
    "# Step 7b and 8b: Training and initial evaluation\n",
    "y_pred_prob = logr.predict_proba(X_test_scale)\n",
    "y_pred = logr.predict(X_test_scale)\n",
    "AUC = roc_auc_score(y_test, y_pred_prob[:,1])\n",
    "print(\"AUC of test model: %.4f\" % AUC)\n",
    "\n",
    "accuracy = accuracy_score(y_test, y_pred)\n",
    "print(\"Accuracy on test data: %.2f%%\" % (accuracy * 100.0))\n",
    "\n",
    "y_pred_train = logr.predict(X_train_scale)\n",
    "accuracy = accuracy_score(y_train, y_pred_train)\n",
    "print(\"Accuracy on train data: %.2f%%\" % (accuracy * 100.0))\n",
    "# even without tuning, logistic regression appears to function better than XGBoost!"
   ]
  },
  {
   "cell_type": "code",
   "execution_count": 72,
   "id": "29c6dc4d",
   "metadata": {},
   "outputs": [
    {
     "data": {
      "text/plain": [
       "array([[43,  6],\n",
       "       [ 6, 36]])"
      ]
     },
     "execution_count": 72,
     "metadata": {},
     "output_type": "execute_result"
    }
   ],
   "source": [
    "# visualise confusion matrix\n",
    "cm_logr = confusion_matrix(y_test, y_pred_logr)\n",
    "cm_logr"
   ]
  },
  {
   "cell_type": "code",
   "execution_count": 73,
   "id": "03e0a863",
   "metadata": {},
   "outputs": [],
   "source": [
    "# Step 9b: perform hyperparameter tuning; focused on regularisation (lasso, ridge) for purposes of explainability\n",
    "from sklearn.model_selection import GridSearchCV\n",
    "\n",
    "# parameters of interest\n",
    "params = {\n",
    " 'penalty' : ['l1', 'l2', 'elasticnet', 'none'],\n",
    " 'C' : np.logspace(-4, 4, 20),\n",
    " 'max_iter': [ 100, 1000, 2500, 5000], \n",
    "    'solver' : ['newton-cg', 'lbfgs', 'liblinear', 'sag', 'saga']\n",
    "}\n",
    "\n",
    "best_logr = GridSearchCV(logr,\n",
    "                              param_grid=params,\n",
    "                              scoring='roc_auc', n_jobs=-1,cv=5,verbose=1)"
   ]
  },
  {
   "cell_type": "code",
   "execution_count": 74,
   "id": "68f3284d",
   "metadata": {},
   "outputs": [
    {
     "name": "stdout",
     "output_type": "stream",
     "text": [
      "Fitting 5 folds for each of 1600 candidates, totalling 8000 fits\n"
     ]
    },
    {
     "name": "stderr",
     "output_type": "stream",
     "text": [
      "/Users/joelloh/opt/anaconda3/lib/python3.8/site-packages/sklearn/model_selection/_search.py:918: UserWarning: One or more of the test scores are non-finite: [       nan        nan 0.5        ...        nan 0.89641028 0.89770898]\n",
      "  warnings.warn(\n"
     ]
    },
    {
     "data": {
      "text/plain": [
       "GridSearchCV(cv=5, estimator=LogisticRegression(random_state=1), n_jobs=-1,\n",
       "             param_grid={'C': array([1.00000000e-04, 2.63665090e-04, 6.95192796e-04, 1.83298071e-03,\n",
       "       4.83293024e-03, 1.27427499e-02, 3.35981829e-02, 8.85866790e-02,\n",
       "       2.33572147e-01, 6.15848211e-01, 1.62377674e+00, 4.28133240e+00,\n",
       "       1.12883789e+01, 2.97635144e+01, 7.84759970e+01, 2.06913808e+02,\n",
       "       5.45559478e+02, 1.43844989e+03, 3.79269019e+03, 1.00000000e+04]),\n",
       "                         'max_iter': [100, 1000, 2500, 5000],\n",
       "                         'penalty': ['l1', 'l2', 'elasticnet', 'none'],\n",
       "                         'solver': ['newton-cg', 'lbfgs', 'liblinear', 'sag',\n",
       "                                    'saga']},\n",
       "             scoring='roc_auc', verbose=1)"
      ]
     },
     "execution_count": 74,
     "metadata": {},
     "output_type": "execute_result"
    }
   ],
   "source": [
    "#model fitting\n",
    "best_logr.fit(X,y)"
   ]
  },
  {
   "cell_type": "code",
   "execution_count": 75,
   "id": "05fa589a",
   "metadata": {},
   "outputs": [
    {
     "data": {
      "text/plain": [
       "{'C': 0.23357214690901212, 'max_iter': 1000, 'penalty': 'l1', 'solver': 'saga'}"
      ]
     },
     "execution_count": 75,
     "metadata": {},
     "output_type": "execute_result"
    }
   ],
   "source": [
    "#parameters selected\n",
    "best_logr.best_params_"
   ]
  },
  {
   "cell_type": "code",
   "execution_count": 76,
   "id": "156da9dc",
   "metadata": {},
   "outputs": [],
   "source": [
    "# GridSearch results in a L1 (lasso) regularised model with relatively small lambda\n",
    "logr_regularised = LogisticRegression(penalty = 'l1', C = 0.23357214690901212, max_iter = 1000,\n",
    "                                      solver = 'saga', random_state=1)"
   ]
  },
  {
   "cell_type": "code",
   "execution_count": 77,
   "id": "82944cc6",
   "metadata": {},
   "outputs": [],
   "source": [
    "# fit the model with data\n",
    "logr_regularised.fit(X_train, y_train.values.ravel())\n",
    "\n",
    "y_pred_logr_regularised = logr_regularised.predict(X_test)"
   ]
  },
  {
   "cell_type": "code",
   "execution_count": 78,
   "id": "6ce721e3",
   "metadata": {},
   "outputs": [
    {
     "data": {
      "image/png": "[encoded data removed]",
      "text/plain": [
       "<Figure size 432x288 with 2 Axes>"
      ]
     },
     "metadata": {
      "needs_background": "light"
     },
     "output_type": "display_data"
    }
   ],
   "source": [
    "# showing confusion matrix\n",
    "cm_logr_regularised = confusion_matrix(y_test, y_pred_logr_regularised)\n",
    "sns.heatmap(cm_logr_regularised, annot = True)\n",
    "plt.title('Confusion Matrix for Logistic Regression')\n",
    "plt.xlabel('Predicted')\n",
    "plt.ylabel('True');"
   ]
  },
  {
   "cell_type": "code",
   "execution_count": 79,
   "id": "2c3f7510",
   "metadata": {},
   "outputs": [
    {
     "name": "stdout",
     "output_type": "stream",
     "text": [
      "AUC of logistic regression: 0.9286\n",
      "K-fold CV average score: 0.8069\n",
      "Accuracy of logistic regression: 89.01%\n"
     ]
    }
   ],
   "source": [
    "y_pred_proba_regularised = logr_regularised.predict_proba(X_test)[::,1]\n",
    "AUC_regularised = roc_auc_score(y_test, y_pred_proba_regularised)\n",
    "print(\"AUC of logistic regression: %.4f\" % AUC_regularised)\n",
    "\n",
    "kfold = KFold(n_splits=10, random_state=1, shuffle=True)\n",
    "kf_cv_scores = cross_val_score(logr_regularised, X_train, y_train.values.ravel(), cv=kfold )\n",
    "print(\"K-fold CV average score: %.4f\" % kf_cv_scores.mean())\n",
    "\n",
    "accuracy = accuracy_score(y_test, y_pred_logr_regularised)\n",
    "print(\"Accuracy of logistic regression: %.2f%%\" % (accuracy * 100.0))"
   ]
  },
  {
   "cell_type": "code",
   "execution_count": 80,
   "id": "8e72af80",
   "metadata": {},
   "outputs": [
    {
     "name": "stdout",
     "output_type": "stream",
     "text": [
      "              precision    recall  f1-score   support\n",
      "\n",
      "           0     0.8545    0.9592    0.9038        49\n",
      "           1     0.9444    0.8095    0.8718        42\n",
      "\n",
      "    accuracy                         0.8901        91\n",
      "   macro avg     0.8995    0.8844    0.8878        91\n",
      "weighted avg     0.8960    0.8901    0.8891        91\n",
      "\n"
     ]
    },
    {
     "data": {
      "image/png": "[encoded data removed]",
      "text/plain": [
       "<Figure size 432x288 with 1 Axes>"
      ]
     },
     "metadata": {
      "needs_background": "light"
     },
     "output_type": "display_data"
    }
   ],
   "source": [
    "print(classification_report(y_test, y_pred_logr_regularised, digits = 4))\n",
    "\n",
    "fpr, tpr, _ = roc_curve(y_test,  y_pred_logr_regularised)\n",
    "\n",
    "#create ROC curve\n",
    "plt.plot(fpr, tpr, label=\"AUC=%.1f%%\" % (AUC_regularised*100))\n",
    "plt.ylabel('True Positive Rate')\n",
    "plt.xlabel('False Positive Rate')\n",
    "plt.legend(loc=4)\n",
    "plt.title('ROC for regularised Logistic Regression')\n",
    "plt.show();\n"
   ]
  },
  {
   "cell_type": "code",
   "execution_count": 81,
   "id": "d37463f5",
   "metadata": {},
   "outputs": [
    {
     "name": "stdout",
     "output_type": "stream",
     "text": [
      "              precision    recall  f1-score   support\n",
      "\n",
      "           0     0.8750    0.8571    0.8660        49\n",
      "           1     0.8372    0.8571    0.8471        42\n",
      "\n",
      "    accuracy                         0.8571        91\n",
      "   macro avg     0.8561    0.8571    0.8565        91\n",
      "weighted avg     0.8576    0.8571    0.8572        91\n",
      "\n"
     ]
    },
    {
     "data": {
      "image/png": "[encoded data removed]",
      "text/plain": [
       "<Figure size 432x288 with 1 Axes>"
      ]
     },
     "metadata": {
      "needs_background": "light"
     },
     "output_type": "display_data"
    }
   ],
   "source": [
    "# showing XGBoost\n",
    "print(classification_report(y_test, y_pred_tuned, digits = 4))\n",
    "fpr, tpr, _ = roc_curve(y_test,  y_pred_prob_tuned[:,1])\n",
    "\n",
    "#create ROC curve\n",
    "plt.plot(fpr, tpr, label=\"AUC=%.1f%%\" % (AUC*100))\n",
    "plt.ylabel('True Positive Rate')\n",
    "plt.xlabel('False Positive Rate')\n",
    "plt.legend(loc=4)\n",
    "plt.title('ROC for tuned XGBoost')\n",
    "plt.show();"
   ]
  },
  {
   "cell_type": "markdown",
   "id": "c47340b3",
   "metadata": {},
   "source": [
    "## Concluding Remarks\n",
    "### XGBoost vs Logistic Regression Model\n",
    "\n",
    "- Accuracy of Logistic Regression Model higher (even before regularisation / tuning) viz XGBoost, post tuning!\n",
    "    - Even without regularisation, Logistic Regression has an accuracy of 86.81% (XGBoost was 85.71% after tuning)\n",
    "    - Gap widens post regularisation, with Logistic Regression accuracy increasing to 89.01%\n",
    "- AUC decreases (similiar AUC values for Logistic Model before regularisation with XGBoost) after regularisation\n",
    "    - This is somewhat expected due to GridSearch recommending rather strict regularisation, via a small lambda\n",
    "    - Seems to have been what caused the lowered AUC as the regularisation forces the model to not overfit\n",
    "        - Implicit assumption here is that even after tuning, the XGBoost model was still overfitted\n",
    "        - This is rather plausible as XGBoost has a tendency to converge quickly\n",
    "            - This is *not* always a good thing in medical classification problems\n",
    "- Note that for this analysis, I am not considering F-score\n",
    "    - This is because dataset is fairly balanced"
   ]
  },
  {
   "cell_type": "code",
   "execution_count": null,
   "id": "2ae769f6",
   "metadata": {},
   "outputs": [],
   "source": []
  }
 ],
 "metadata": {
  "kernelspec": {
   "display_name": "Python 3",
   "language": "python",
   "name": "python3"
  },
  "language_info": {
   "codemirror_mode": {
    "name": "ipython",
    "version": 3
   },
   "file_extension": ".py",
   "mimetype": "text/x-python",
   "name": "python",
   "nbconvert_exporter": "python",
   "pygments_lexer": "ipython3",
   "version": "3.8.8"
  }
 },
 "nbformat": 4,
 "nbformat_minor": 5
}
